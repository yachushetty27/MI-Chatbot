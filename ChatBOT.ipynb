{
  "nbformat": 4,
  "nbformat_minor": 0,
  "metadata": {
    "colab": {
      "name": "ChatBOT.ipynb",
      "provenance": []
    },
    "kernelspec": {
      "name": "python3",
      "display_name": "Python 3"
    },
    "language_info": {
      "name": "python"
    }
  },
  "cells": [
    {
      "cell_type": "code",
      "execution_count": null,
      "metadata": {
        "id": "EdypO74Fsfqa"
      },
      "outputs": [],
      "source": [
        "import pandas as pd\n",
        "from sklearn import preprocessing\n",
        "from sklearn.tree import DecisionTreeClassifier,_tree\n",
        "import numpy as np\n",
        "from sklearn.model_selection import train_test_split\n",
        "from sklearn import model_selection\n",
        "from sklearn.tree import export_graphviz\n",
        "import warnings\n",
        "warnings.filterwarnings(\"ignore\", category=DeprecationWarning)"
      ]
    },
    {
      "cell_type": "code",
      "source": [
        "training = pd.read_csv('Training.csv')\n",
        "testing = pd.read_csv('Testing.csv')\n",
        "cols = training.columns\n",
        "cols = cols[:-1]\n",
        "x = training[cols]\n",
        "y = training['prognosis']\n",
        "y1 = y\n",
        "reduced_data = training.groupby(training['prognosis']).max()\n",
        "#mapping strings to numbers\n",
        "le = preprocessing.LabelEncoder()\n",
        "le.fit(y)\n",
        "y = le.transform(y)\n",
        "x_train, x_test, y_train, y_test = train_test_split(x, y, test_size=0.33, random_state=42)\n",
        "testx = testing[cols]\n",
        "testy = testing['prognosis']\n",
        "testy = le.transform(testy)\n",
        "clf1 = DecisionTreeClassifier()\n",
        "clf = clf1.fit(x_train,y_train)\n",
        "importances = clf.feature_importances_\n",
        "indices = np.argsort(importances)[::-1]\n",
        "features = cols\n",
        "print(\"Hello!\")\n",
        "print(\"Do you have this symptom? Type yes/no.\")"
      ],
      "metadata": {
        "colab": {
          "base_uri": "https://localhost:8080/"
        },
        "id": "TA5GK_obs60N",
        "outputId": "fa95031e-44a2-4de9-f9eb-90fba8562f51"
      },
      "execution_count": null,
      "outputs": [
        {
          "output_type": "stream",
          "name": "stdout",
          "text": [
            "Hello!\n",
            "Do you have this symptom? Type yes/no.\n"
          ]
        }
      ]
    },
    {
      "cell_type": "code",
      "source": [
        "def print_disease(node):\n",
        " node = node[0]\n",
        " val = node.nonzero()\n",
        " disease = le.inverse_transform(val[0])\n",
        " return disease\n"
      ],
      "metadata": {
        "id": "9w8Kdx3nuI7w"
      },
      "execution_count": null,
      "outputs": []
    },
    {
      "cell_type": "code",
      "source": [
        "def tree_to_code(tree, feature_names):\n",
        " tree_ = tree.tree_\n",
        " feature_name = [\n",
        " feature_names[i] if i != _tree.TREE_UNDEFINED else \"undefined!\"\n",
        " for i in tree_.feature\n",
        " ]\n",
        " symptoms_present = []\n"
      ],
      "metadata": {
        "id": "drt2LzzHuQWL"
      },
      "execution_count": null,
      "outputs": []
    },
    {
      "cell_type": "code",
      "source": [
        "def recurse(node, depth):\n",
        " indent = \" \" * depth\n",
        " if tree_.feature[node] != _tree.TREE_UNDEFINED:\n",
        "    name = feature_name[node]\n",
        "    threshold = tree_.threshold[node]\n",
        "    print(name + \" ?\")\n",
        "    ans = input()\n",
        "    ans = ans.lower()\n",
        "    if ans == 'yes':\n",
        "       val = 1  \n",
        "    else:\n",
        "       val = 0\n",
        "    if val <= threshold:\n",
        "       recurse(tree_.children_left[node], depth + 1)\n",
        "    else:\n",
        "       symptoms_present.append(name)\n",
        "       recurse(tree_.children_right[node], depth + 1)\n",
        " else:\n",
        "      present_disease = print_disease(tree_.value[node])\n",
        "      print( \"You might be suffering from \" + present_disease )\n",
        "      red_cols = reduced_data.columns\n",
        "      symptoms_given = red_cols[reduced_data.loc[present_disease].values[0].nonzero()]\n",
        "      print(\"These are the symptoms \" + str(list(symptoms_present)))\n",
        "      print('Consult doctor for more information. Take care!')\n",
        " recurse(0, 1)\n",
        "\n"
      ],
      "metadata": {
        "id": "xv4Tr2RmudiT"
      },
      "execution_count": null,
      "outputs": []
    },
    {
      "cell_type": "code",
      "source": [
        "tree_to_code(clf,cols)"
      ],
      "metadata": {
        "id": "5bHej2hvxGyC"
      },
      "execution_count": null,
      "outputs": []
    }
  ]
}